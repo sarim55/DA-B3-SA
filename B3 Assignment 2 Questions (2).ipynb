{
 "cells": [
  {
   "cell_type": "markdown",
   "id": "6cfd25d7-2816-468c-9b66-e53411f938ac",
   "metadata": {},
   "source": [
    "1- \n",
    "\n",
    "text = 'hello python world'\n",
    "\n",
    "Replace spaces with underscores in the string (e.g., \"hello python world\" → \"hello_python_world\").\n",
    "\n",
    "Split the modified string (e.g., \"hello_python_world\" → ['hello', 'python', 'world']).\n",
    "\n",
    "Join the list elements with a hyphen (-) between them (e.g., ['hello', 'python', 'world'] → \"hello-python-world\").\n",
    "\n",
    "Print all three results\n",
    "\n",
    "Hint: Use string methods"
   ]
  },
  {
   "cell_type": "code",
   "execution_count": 2,
   "id": "8de38244-0a28-4516-8bb8-fa0ca6a0b97c",
   "metadata": {},
   "outputs": [
    {
     "name": "stdout",
     "output_type": "stream",
     "text": [
      "hello_python_world\n"
     ]
    }
   ],
   "source": [
    "text = 'hello python world'\n",
    "replace_text = text.replace(\" \", \"_\")\n",
    "print(replace_text)"
   ]
  },
  {
   "cell_type": "code",
   "execution_count": 8,
   "id": "ad2242a4-4302-4839-af5a-83c5575c91cd",
   "metadata": {},
   "outputs": [
    {
     "name": "stdout",
     "output_type": "stream",
     "text": [
      "['hello', 'python', 'world']\n"
     ]
    }
   ],
   "source": [
    "split_text=replace_text.split(\"_\")\n",
    "print(split_text)"
   ]
  },
  {
   "cell_type": "code",
   "execution_count": 12,
   "id": "331fef08-86c2-4659-a0e3-487afd4d899b",
   "metadata": {},
   "outputs": [
    {
     "name": "stdout",
     "output_type": "stream",
     "text": [
      "hello-python-world\n"
     ]
    }
   ],
   "source": [
    "join_text=\"-\".join(split_text)\n",
    "print(join_text)"
   ]
  },
  {
   "cell_type": "markdown",
   "id": "43b16f9d-fe31-4abf-8377-82c6cc146e07",
   "metadata": {},
   "source": [
    "2- Check if a string has more than 5 characters. Return True/False\n",
    "\n",
    "word = \"Javascript\""
   ]
  },
  {
   "cell_type": "code",
   "execution_count": 7,
   "id": "3f375748-dd30-4938-8768-15a2914bcd61",
   "metadata": {},
   "outputs": [
    {
     "name": "stdout",
     "output_type": "stream",
     "text": [
      "True\n"
     ]
    }
   ],
   "source": [
    "word = \"Javascript\"\n",
    "print(len(word)>5)"
   ]
  },
  {
   "cell_type": "markdown",
   "id": "b1f1b114-fa24-40b3-851b-208bef6992f3",
   "metadata": {},
   "source": [
    "3- Check if a number is even and greater than 10. Return True/False\n",
    "\n",
    "num2 = 12"
   ]
  },
  {
   "cell_type": "code",
   "execution_count": 16,
   "id": "26241288-dd80-49d5-a7c6-1e24724b7a42",
   "metadata": {},
   "outputs": [
    {
     "name": "stdout",
     "output_type": "stream",
     "text": [
      "True\n"
     ]
    }
   ],
   "source": [
    "num2 = 12\n",
    "print(num2%2==0 and num2>10 )"
   ]
  },
  {
   "cell_type": "markdown",
   "id": "a8861555-edde-43cb-94c7-ace2988433fa",
   "metadata": {},
   "source": [
    "4- Check if a number is less than 5 or greater than 20. Return True/False\n",
    "\n",
    "num3 = 3\n"
   ]
  },
  {
   "cell_type": "code",
   "execution_count": 18,
   "id": "9bd96d65-7952-492d-b1ae-f0b804ef5cfd",
   "metadata": {},
   "outputs": [
    {
     "name": "stdout",
     "output_type": "stream",
     "text": [
      "True\n"
     ]
    }
   ],
   "source": [
    "num3=3\n",
    "print(num3<5 or num3>20)"
   ]
  },
  {
   "cell_type": "markdown",
   "id": "1bb3ccd8-c052-47ed-ab1c-d76496b2174c",
   "metadata": {},
   "source": [
    "5- Check if a person’s age is between 18 and 65 and if they have a valid ID\n",
    "\n",
    "age = 25\n",
    "\n",
    "has_id = True"
   ]
  },
  {
   "cell_type": "code",
   "execution_count": 19,
   "id": "f5cd5ce2-0fd8-4d94-94a2-ac7b2de6c7be",
   "metadata": {},
   "outputs": [
    {
     "name": "stdout",
     "output_type": "stream",
     "text": [
      "True\n"
     ]
    }
   ],
   "source": [
    "age = 25\n",
    "has_id= (age >= 18 or age <=65)\n",
    "print(has_id)"
   ]
  },
  {
   "cell_type": "markdown",
   "id": "2842c61a-03a6-4501-b217-b616e35d5381",
   "metadata": {},
   "source": [
    "6-Write a script to check if a string starts with (http://) or (https://)\n",
    "\n",
    "url = \"https://www.example.com\""
   ]
  },
  {
   "cell_type": "code",
   "execution_count": 23,
   "id": "0d6a4d43-68b7-4e41-9646-91c0ea8c5fc4",
   "metadata": {},
   "outputs": [
    {
     "name": "stdout",
     "output_type": "stream",
     "text": [
      "True\n"
     ]
    }
   ],
   "source": [
    "url = \"https://www.example.com\"\n",
    "print((\"http://\" in url) or (\"https://\" in url))"
   ]
  },
  {
   "cell_type": "markdown",
   "id": "aab1ae26-2cc7-4d19-937d-a83c6cffc5ec",
   "metadata": {},
   "source": [
    "7- Write a script that applies a 10% discount to an item's price. (Using Assignment Operator)\n",
    "\n",
    "price = 100"
   ]
  },
  {
   "cell_type": "code",
   "execution_count": 26,
   "id": "d02c7207-72d1-4935-9be9-6f7d49e0cd83",
   "metadata": {},
   "outputs": [
    {
     "name": "stdout",
     "output_type": "stream",
     "text": [
      "90.0\n"
     ]
    }
   ],
   "source": [
    "price=100\n",
    "discount = price * 0.10\n",
    "price -= discount \n",
    "print(price)\n"
   ]
  },
  {
   "cell_type": "markdown",
   "id": "f6cddfb2-70b7-4e67-9b02-728c82e92e2f",
   "metadata": {},
   "source": [
    "8- You are managing different customer lists for a subscription service, check if alice@example.com is our both premium and basic customer\n",
    "\n",
    "premium_customers = [\"alice@example.com\", \"charlie@example.com\", \"bob@example.com\"]\n",
    "\n",
    "basic_customers = [\"alex@example.com\", \"david@example.com\", \"chloe@example.com\"]"
   ]
  },
  {
   "cell_type": "code",
   "execution_count": 27,
   "id": "515a396e-e3bc-4c4f-8a5d-1e66ddb7959b",
   "metadata": {},
   "outputs": [
    {
     "name": "stdout",
     "output_type": "stream",
     "text": [
      "False\n"
     ]
    }
   ],
   "source": [
    "premium_customers = [\"alice@example.com\", \"charlie@example.com\", \"bob@example.com\"]\n",
    "basic_customers = [\"alex@example.com\", \"david@example.com\", \"chloe@example.com\"]\n",
    "\n",
    "print((\"alice@example.com\" in premium_customers) and (\"alice@example.com\" in basic_customers))"
   ]
  },
  {
   "cell_type": "markdown",
   "id": "47dbafcf-7a6b-4ba0-af44-1e567292f8de",
   "metadata": {},
   "source": [
    "9. Write a Python program that prompts the user to enter a password and returns True or False based on the following checks:\n",
    "\n",
    "Whether the string contains any uppercase characters.\n",
    "\n",
    "Whether the string contains any lowercase characters.\n",
    "\n",
    "Whether the string contains any spaces.\n",
    "\n",
    "Whether the string contains any special characters (anything other than letters, digits, and spaces).\n",
    "\n",
    "\n",
    "\n",
    "Hint: Use Input function and string methods\n"
   ]
  },
  {
   "cell_type": "code",
   "execution_count": 40,
   "id": "c167b619-c55c-418b-a820-e7905bc35b6d",
   "metadata": {},
   "outputs": [
    {
     "name": "stdin",
     "output_type": "stream",
     "text": [
      " Pass\n"
     ]
    },
    {
     "name": "stdout",
     "output_type": "stream",
     "text": [
      "user Pasword :  Pass\n",
      "User Password has uppercase Charachter: True\n",
      "User Password has lowercase Charachter: True\n",
      "User Password has any space: False\n",
      "User Password has any special character:  False\n"
     ]
    }
   ],
   "source": [
    "Password=str(input())\n",
    "print(\"user Pasword : \",Password)\n",
    "#Whether the string contains any uppercase characters.\n",
    "print(\"User Password has uppercase Charachter:\",Password != Password.lower())\n",
    "#Whether the string contains any lowercase characters.\n",
    "print(\"User Password has lowercase Charachter:\",Password != Password.upper())\n",
    "#Whether the string contains any spaces.\n",
    "print(\"User Password has any space:\",Password.isspace())\n",
    "#Whether the string contains any special characters (anything other than letters, digits, and spaces)\n",
    "print(\"User Password has any special character: \" , not Password.isalnum())"
   ]
  },
  {
   "cell_type": "markdown",
   "id": "8164e2d0-dc5a-4439-a196-1545e0a55139",
   "metadata": {},
   "source": [
    "10- You have a product code that follows the format \"SKU-12345-XYZ\". \n",
    "\n",
    "Find the first position of the dash (-).\n",
    "\n",
    "Count the number of dashes (-) in the product code.\n",
    "\n",
    "Remove the \"SKU-\" prefix and \"-XYZ\" suffix from the product code, Extract the numeric part 12345\n",
    "\n",
    "Hint: Use String Methods"
   ]
  },
  {
   "cell_type": "code",
   "execution_count": 38,
   "id": "3804ef6e-0881-4f70-a613-9d842c294016",
   "metadata": {},
   "outputs": [
    {
     "name": "stdout",
     "output_type": "stream",
     "text": [
      "code:  SKU-12345-XYZ\n",
      "first position of dash:  3\n",
      "Number of dashes :  2\n",
      "Numeric Part:  12345\n"
     ]
    }
   ],
   "source": [
    "code=\"SKU-12345-XYZ\"\n",
    "print(\"code: \", code)\n",
    "print(\"first position of dash: \", code.find(\"-\"))\n",
    "print(\"Number of dashes : \", code.count(\"-\"))\n",
    "remove_prefix_code=code.removeprefix(\"SKU-\")\n",
    "remove_suffix_code=remove_prefix_code.removesuffix(\"-XYZ\")\n",
    "print(\"Numeric Part: \", remove_suffix_code)"
   ]
  },
  {
   "cell_type": "code",
   "execution_count": null,
   "id": "c686a05c-6df1-4810-8457-9b8657ecc793",
   "metadata": {},
   "outputs": [],
   "source": []
  },
  {
   "cell_type": "code",
   "execution_count": null,
   "id": "af7e82c3-06cc-443f-aad1-fea373bf2c15",
   "metadata": {},
   "outputs": [],
   "source": []
  }
 ],
 "metadata": {
  "kernelspec": {
   "display_name": "Python 3 (ipykernel)",
   "language": "python",
   "name": "python3"
  },
  "language_info": {
   "codemirror_mode": {
    "name": "ipython",
    "version": 3
   },
   "file_extension": ".py",
   "mimetype": "text/x-python",
   "name": "python",
   "nbconvert_exporter": "python",
   "pygments_lexer": "ipython3",
   "version": "3.12.7"
  }
 },
 "nbformat": 4,
 "nbformat_minor": 5
}
