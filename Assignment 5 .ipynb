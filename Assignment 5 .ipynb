{
 "cells": [
  {
   "cell_type": "markdown",
   "id": "a758a746-ab4b-48b6-98dc-45093b46607d",
   "metadata": {},
   "source": [
    "1. Write a Python function called add_numbers that takes two numbers as arguments and returns their sum. Then, test the function by calling it with two numbers of your choice."
   ]
  },
  {
   "cell_type": "code",
   "execution_count": 9,
   "id": "9efd5cf0-80e1-43c9-b411-8ed4a1673580",
   "metadata": {},
   "outputs": [
    {
     "name": "stdin",
     "output_type": "stream",
     "text": [
      "Enter first number 5\n",
      "Enter second number 4\n"
     ]
    },
    {
     "name": "stdout",
     "output_type": "stream",
     "text": [
      "The sum is:  9\n"
     ]
    }
   ],
   "source": [
    "def add_numbers(num_1, num_2):\n",
    "    sum_of_numbers= num_1 + num_2\n",
    "    return sum_of_numbers\n",
    "\n",
    "\n",
    "num_1=int(input(\"Enter first number\"))\n",
    "num_2=int(input(\"Enter second number\"))\n",
    "sum_of_numbers = add_numbers(num_1,num_2 )\n",
    "print(\"The sum is: \", sum_of_numbers)"
   ]
  },
  {
   "cell_type": "markdown",
   "id": "73ff5400-836c-44ee-aeeb-0b84be9db4d8",
   "metadata": {},
   "source": [
    "2. Create a Python function called currency_converter() that takes two arguments:\n",
    "\n",
    "- amount: The amount of money to be converted (in USD).\n",
    "- exchange_rate (default is 280): The conversion rate from USD to another currency (e.g., PKR). You can assume the default rate is 1 USD = 280 PKR.\n",
    "\n",
    "The function should return a message showing how much the given amount is worth in the target currency (PKR)."
   ]
  },
  {
   "cell_type": "code",
   "execution_count": 25,
   "id": "92275e38-a217-4964-af38-07682291e5e8",
   "metadata": {},
   "outputs": [
    {
     "name": "stdin",
     "output_type": "stream",
     "text": [
      "Enter Amount in PKR to convert in USD :  25\n"
     ]
    },
    {
     "name": "stdout",
     "output_type": "stream",
     "text": [
      "$25 USD is equal to 7000 PKR at an exchange rate of 280.\n"
     ]
    }
   ],
   "source": [
    "def curreny_converter(amount_in_pkr,exchange_rate=280):\n",
    "    converted_amount = amount_in_pkr * exchange_rate\n",
    "    return print(f\"${amount_in_pkr} USD is equal to {converted_amount} PKR at an exchange rate of {exchange_rate}.\")\n",
    "    \n",
    "amount_in_pkr=int(input(\"Enter Amount in PKR to convert in USD : \"))\n",
    "conversion=curreny_converter(amount_in_pkr)\n"
   ]
  },
  {
   "cell_type": "markdown",
   "id": "0f49a1a2-234e-434f-bbc1-bb5ed293e2c4",
   "metadata": {},
   "source": [
    "3. Write a Python function display_student_info that accepts the following details about a student:\n",
    "\n",
    "- name (Keyword argument): The name of the student.\n",
    "- age (Keyword argument): The age of the student.\n",
    "- grade (Keyword argument): The grade the student is in.\n",
    "- school (Keyword argument): The name of the school the student attends."
   ]
  },
  {
   "cell_type": "code",
   "execution_count": 34,
   "id": "3ccaf601-4cf1-452d-a088-7f3ca6e7beaa",
   "metadata": {},
   "outputs": [
    {
     "name": "stdin",
     "output_type": "stream",
     "text": [
      "Enter Student Name:  Sarim Ali Khan\n",
      "Enter Student Age:  24\n",
      "Enter Student Grade:  BSC\n",
      "Enter Student School:  University of Karachi\n"
     ]
    },
    {
     "name": "stdout",
     "output_type": "stream",
     "text": [
      "\n",
      " \n",
      "Student Information:\n",
      "The name of the student : Sarim Ali Khan\n",
      "The age of the student : 24\n",
      "The grade the student is in : BSC\n",
      "The name of the school the student attends : University of Karachi\n"
     ]
    }
   ],
   "source": [
    "def display_student_info(*, name, age, grade, school):\n",
    "    print(f\"\\n \\nStudent Information:\")\n",
    "    print(f\"The name of the student : {name}\")\n",
    "    print(f\"The age of the student : {age}\")\n",
    "    print(f\"The grade the student is in : {grade}\")\n",
    "    print(f\"The name of the school the student attends : {school}\")\n",
    "\n",
    "name = str(input(\"Enter Student Name: \"))\n",
    "age = int(input(\"Enter Student Age: \"))\n",
    "grade = str(input(\"Enter Student Grade: \"))\n",
    "school = str(input(\"Enter Student School: \"))\n",
    "\n",
    "display_student_info(name=name, age=age, grade=grade, school=school)"
   ]
  },
  {
   "cell_type": "markdown",
   "id": "6bd6698d-f556-439a-981f-dfa0ef46ed9a",
   "metadata": {},
   "source": [
    "4. Write a Python function calculate_price that accepts two positional arguments:\n",
    "\n",
    "- price: The price of a single item.\n",
    "- quantity: The number of items bought.\n",
    "- The function should return the total price by multiplying price and quantity."
   ]
  },
  {
   "cell_type": "code",
   "execution_count": 38,
   "id": "8d0e29f9-933d-49b7-ad4e-661c17d6b336",
   "metadata": {},
   "outputs": [
    {
     "name": "stdout",
     "output_type": "stream",
     "text": [
      "Total price:  4000\n"
     ]
    }
   ],
   "source": [
    "def calculate_price(price, quantity):\n",
    "    return price * quantity\n",
    "\n",
    "total = calculate_price(500, 8)\n",
    "print(\"Total price: \", total)"
   ]
  },
  {
   "cell_type": "markdown",
   "id": "e589be97-b036-4b13-86b9-9d3312761a0c",
   "metadata": {},
   "source": [
    "5. Write a Python function display_prices that takes a product name and an arbitrary number of keyword arguments representing product prices. The function should display each product and its price.\n",
    "\n",
    "Product: Laptop\n",
    "\n",
    "Amazon: $800\n",
    "\n",
    "eBay: $750\n",
    "\n",
    "Walmart: $780"
   ]
  },
  {
   "cell_type": "code",
   "execution_count": 42,
   "id": "cc1939cc-7512-4546-8f9a-78e8f44769c7",
   "metadata": {},
   "outputs": [
    {
     "name": "stdout",
     "output_type": "stream",
     "text": [
      "Product: Laptop\n",
      "\n",
      "Amazon: $800\n",
      "eBay: $750\n",
      "Walmart: $780\n"
     ]
    }
   ],
   "source": [
    "def display_prices(product, **prices):\n",
    "    print(f\"Product: {product}\\n\")\n",
    "    for seller, price in prices.items():\n",
    "        print(f\"{seller}: ${price}\")\n",
    "\n",
    "display_prices(\"Laptop\", Amazon=800, eBay=750, Walmart=780)"
   ]
  },
  {
   "cell_type": "markdown",
   "id": "5a5910f5-e54e-4515-8c98-c3898f96c1ca",
   "metadata": {},
   "source": [
    "6. Write a Python function find_max that takes any number of numerical arguments and returns the maximum number."
   ]
  },
  {
   "cell_type": "code",
   "execution_count": 48,
   "id": "db303ee6-0d40-46db-b9f0-8c54e3b8c362",
   "metadata": {},
   "outputs": [
    {
     "name": "stdout",
     "output_type": "stream",
     "text": [
      "Maximum number is: 10\n"
     ]
    }
   ],
   "source": [
    "def find_max(*args):\n",
    "    \n",
    "    return max(args)\n",
    "\n",
    "print(\"Maximum number is:\", find_max(5,3,9,10,1))"
   ]
  },
  {
   "cell_type": "markdown",
   "id": "44669d12-8201-466b-a8e8-f7538f3eb72f",
   "metadata": {},
   "source": [
    "7. Write a Python function display_info that takes:\n",
    "Positional arguments for the name and age of a person.\n",
    "Keyword arguments for other personal details like address, phone number, and email.\n",
    "Example Output:\n",
    "\n",
    "- Name: Alice\n",
    "- Age: 30\n",
    "- Other Details:\n",
    "    - address: 123 Main St\n",
    "    - phone: 123-456-7890\n",
    "    - email: alice@example.com"
   ]
  },
  {
   "cell_type": "code",
   "execution_count": 62,
   "id": "d5e371dc-0a14-4521-9a77-b6030828f3c5",
   "metadata": {},
   "outputs": [
    {
     "name": "stdin",
     "output_type": "stream",
     "text": [
      "Enter your name :  Alie\n",
      "Enter your age :  30\n",
      "Enter your address :  Green Town\n",
      "Enter your phone number :  0309-2009504\n",
      "Enter your email :  sarim@example.com\n"
     ]
    },
    {
     "name": "stdout",
     "output_type": "stream",
     "text": [
      "\n",
      " Name: Alie\n",
      "Age: 30\n",
      "Other Details:\n",
      "address: Green Town\n",
      "phone: 0309-2009504\n",
      "email: sarim@example.com\n"
     ]
    }
   ],
   "source": [
    "def display_info(name, age, **kwargs):\n",
    "    print()\n",
    "    print(f\" Name: {name}\")\n",
    "    print(f\"Age: {age}\")\n",
    "    if kwargs:\n",
    "        print(\"Other Details:\")\n",
    "        for key, value in kwargs.items():\n",
    "            print(f\"{key}: {value}\")\n",
    "\n",
    "name=str(input(\"Enter your name : \"))\n",
    "age=int(input(\"Enter your age : \"))\n",
    "address=str(input(\"Enter your address : \"))\n",
    "phone=str(input(\"Enter your phone number : \"))\n",
    "email=str(input(\"Enter your email : \"))\n",
    "display_info(name=name,age=age, address=address,phone=phone,email=email)"
   ]
  },
  {
   "cell_type": "markdown",
   "id": "bdbfd749-11e9-46f5-ab44-624a2799b5ab",
   "metadata": {},
   "source": [
    "8. products = [ {\"name\": \"Laptop\", \"price\": 1200, \"in_stock\": True, \"discount\": 0.1}, {\"name\": \"Smartphone\", \"price\": 800, \"in_stock\": False, \"discount\": 0.05}, {\"name\": \"Headphones\", \"price\": 150, \"in_stock\": True, \"discount\": 0.2}, {\"name\": \"Smartwatch\", \"price\": 300, \"in_stock\": True, \"discount\": 0}, {\"name\": \"Keyboard\", \"price\": 100, \"in_stock\": True, \"discount\": 0.15} ]\n",
    "\n",
    "- Get names of in-stock products:\n",
    "\n",
    "*Use list comprehension to generate a list of names for the products that are in stock.\n",
    "\n",
    "- Calculate final prices for in-stock products after discount:\n",
    "\n",
    "*For products that have a discount, calculate the final price by applying the discount.\n",
    "\n",
    "*For products with no discount, keep the original price.\n",
    "\n",
    "- Generate a list of tuples with the product name and its final price.\n",
    "\n",
    "Example Output:\n",
    "\n",
    "- In-stock product names: ['Laptop', 'Headphones', 'Smartwatch', 'Keyboard']\n",
    "- Discounted prices: [('Laptop', 1080.0), ('Headphones', 120.0), ('Smartwatch', 300), ('Keyboard', 85.0)]"
   ]
  },
  {
   "cell_type": "code",
   "execution_count": 73,
   "id": "27b56fd8-bd8c-4c2c-961d-3dc1fa60cb31",
   "metadata": {},
   "outputs": [
    {
     "name": "stdout",
     "output_type": "stream",
     "text": [
      "In-stock product names: ['Laptop', 'Headphones', 'Smartwatch', 'Keyboard']\n",
      "Discounted prices: [('Laptop', 1080.0), ('Headphones', 120.0), ('Smartwatch', 300), ('Keyboard', 85.0)]\n"
     ]
    }
   ],
   "source": [
    "\n",
    "products = [\n",
    "    {\"name\": \"Laptop\", \"price\": 1200, \"in_stock\": True, \"discount\": 0.1},\n",
    "    {\"name\": \"Smartphone\", \"price\": 800, \"in_stock\": False, \"discount\": 0.05},\n",
    "    {\"name\": \"Headphones\", \"price\": 150, \"in_stock\": True, \"discount\": 0.2},\n",
    "    {\"name\": \"Smartwatch\", \"price\": 300, \"in_stock\": True, \"discount\": 0},\n",
    "    {\"name\": \"Keyboard\", \"price\": 100, \"in_stock\": True, \"discount\": 0.15}\n",
    "]\n",
    "\n",
    "in_stock_names = [product[\"name\"] for product in products if product[\"in_stock\"]]\n",
    "\n",
    "discounted_prices = [\n",
    "    (product[\"name\"], product[\"price\"] * (1 - product[\"discount\"])  if product[\"discount\"] else product[\"price\"])\n",
    "    for product in products if product[\"in_stock\"]\n",
    "]\n",
    "print(\"In-stock product names:\", in_stock_names)\n",
    "print(\"Discounted prices:\", discounted_prices)"
   ]
  },
  {
   "cell_type": "markdown",
   "id": "82c385f9-3462-4bd5-9932-6494ba7f4ea4",
   "metadata": {},
   "source": [
    "9.Create a list of even numbers between 1 and 20. (List Comprehension)"
   ]
  },
  {
   "cell_type": "code",
   "execution_count": 75,
   "id": "be62f4f4-8e34-4a6d-ad7b-9aee9043a4cc",
   "metadata": {},
   "outputs": [
    {
     "name": "stdout",
     "output_type": "stream",
     "text": [
      "[2, 4, 6, 8, 10, 12, 14, 16, 18, 20]\n"
     ]
    }
   ],
   "source": [
    "even_numbers = [num for num in range(1, 21) if num % 2 == 0]\n",
    "print(even_numbers)"
   ]
  },
  {
   "cell_type": "markdown",
   "id": "aade3ca0-7357-42c0-96c5-05152574ae76",
   "metadata": {},
   "source": [
    "10. Create a list of numbers, generate a new list containing only the numbers that are divisible by 3 or 5. (List Comprehension)"
   ]
  },
  {
   "cell_type": "code",
   "execution_count": 77,
   "id": "69058973-c0cb-4398-a0e7-a790a12dc8ff",
   "metadata": {},
   "outputs": [
    {
     "name": "stdout",
     "output_type": "stream",
     "text": [
      "[3, 5, 6, 9, 10, 12, 15, 18, 20, 21, 24, 25, 27, 30, 33, 35, 36, 39, 40, 42, 45, 48, 50]\n"
     ]
    }
   ],
   "source": [
    "divisible_by_3_or_5 = [num for num in range(1, 51) if num % 3 == 0 or num % 5 == 0]\n",
    "print(divisible_by_3_or_5)"
   ]
  },
  {
   "cell_type": "code",
   "execution_count": null,
   "id": "8b446c8a-e186-4fe4-8447-2d9da8dac2b4",
   "metadata": {},
   "outputs": [],
   "source": []
  }
 ],
 "metadata": {
  "kernelspec": {
   "display_name": "Python [conda env:base] *",
   "language": "python",
   "name": "conda-base-py"
  },
  "language_info": {
   "codemirror_mode": {
    "name": "ipython",
    "version": 3
   },
   "file_extension": ".py",
   "mimetype": "text/x-python",
   "name": "python",
   "nbconvert_exporter": "python",
   "pygments_lexer": "ipython3",
   "version": "3.12.7"
  }
 },
 "nbformat": 4,
 "nbformat_minor": 5
}
