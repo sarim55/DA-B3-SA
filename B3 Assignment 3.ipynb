{
 "cells": [
  {
   "cell_type": "markdown",
   "id": "040aea0c-eda0-465a-b3f6-fd58237a430b",
   "metadata": {},
   "source": [
    "Question 1: Age Group Classification \n",
    "\n",
    "Write a Python program that takes the age of a person as input and classifies them into one of the following age groups:\n",
    "\n",
    "\"Child\" if the age is between 0 and 12 (inclusive).\n",
    "\n",
    "\"Teenager\" if the age is between 13 and 19 (inclusive).\n",
    "\n",
    "\"Adult\" if the age is between 20 and 64 (inclusive).\n",
    "\n",
    "\"Senior\" if the age is 65 or older.\n"
   ]
  },
  {
   "cell_type": "code",
   "execution_count": 1,
   "id": "e01f59a0-0ae1-4bbf-b2fe-767f15525e47",
   "metadata": {},
   "outputs": [
    {
     "name": "stdin",
     "output_type": "stream",
     "text": [
      "Enter Age:  4\n"
     ]
    },
    {
     "name": "stdout",
     "output_type": "stream",
     "text": [
      "Child\n"
     ]
    }
   ],
   "source": [
    "age=int(input(\"Enter Age: \"))\n",
    "if age < 0 :\n",
    "    print (\"Age is not negative\")\n",
    "elif age >= 0 and age <= 12:\n",
    "    print(\"Child\")\n",
    "elif age >=13 and age <= 19:\n",
    "    print(\"Teenager\")\n",
    "elif age >=20 and age <= 64:\n",
    "    print(\"Adult\")\n",
    "else:\n",
    "    print(\"Senior\")"
   ]
  },
  {
   "cell_type": "markdown",
   "id": "d9454a68-2356-4a08-bca0-7be6dc88de44",
   "metadata": {},
   "source": [
    "Q2. Write a Python program that asks the user to enter an email address. The program should check if the email contains the characters @ and \".\" (ignoring case). If either character is present, print \"Email format is valid.\" Otherwise, print \"Invalid email format.\""
   ]
  },
  {
   "cell_type": "code",
   "execution_count": 3,
   "id": "7f1b00af-925b-4a5b-a85d-fa86a7f6b66a",
   "metadata": {},
   "outputs": [
    {
     "name": "stdin",
     "output_type": "stream",
     "text": [
      "Enter your Email Address khanali.sarim55@gmail.com\n"
     ]
    },
    {
     "name": "stdout",
     "output_type": "stream",
     "text": [
      "Email format is valid\n"
     ]
    }
   ],
   "source": [
    "email_address=str(input(\"Enter your Email Address\"))\n",
    "if \"@\" in email_address and \".\" in email_address:\n",
    "    print(\"Email format is valid\")\n",
    "else:\n",
    "    print(\"Invalid Email format\")"
   ]
  },
  {
   "cell_type": "markdown",
   "id": "a074ddbe-c5c4-455e-ac3c-53fbbc6c2d56",
   "metadata": {},
   "source": [
    "Q3. Write a Python program that takes three numbers as input and determines the largest among them. Also, check if any or all of the numbers are equal.\""
   ]
  },
  {
   "cell_type": "code",
   "execution_count": 17,
   "id": "8fc2ac3b-861e-46a5-a6a5-a0f0203f332a",
   "metadata": {},
   "outputs": [
    {
     "name": "stdin",
     "output_type": "stream",
     "text": [
      "Enter 1st number 25\n",
      "Enter 2nd number 28\n",
      "Enter 3rd number 21\n"
     ]
    },
    {
     "name": "stdout",
     "output_type": "stream",
     "text": [
      "The largest number is:  28.0\n"
     ]
    }
   ],
   "source": [
    "num1=float(input(\"Enter 1st number\"))\n",
    "num2=float(input(\"Enter 2nd number\"))\n",
    "num3=float(input(\"Enter 3rd number\"))\n",
    "if num1==num2==num3:\n",
    "    print(\"All three numbers are equal\")\n",
    "elif num1 ==num2 or num2==num3 or num3== num1:\n",
    "    print (\"some of all enter number are same\")\n",
    "    largest =max(num1,num2,num3) \n",
    "    print(\"The largest number is: \", largest)\n",
    "else:\n",
    "    largest =max(num1,num2,num3)\n",
    "    print(\"The largest number is: \", largest  ) "
   ]
  },
  {
   "cell_type": "markdown",
   "id": "55560bd6-a9d8-4e57-a192-b3e9932ff5cb",
   "metadata": {},
   "source": [
    "Q4. Write a Python program that:\n",
    "\n",
    "Asks the user to enter a number.\n",
    "\n",
    "Checks whether the number is positive.\n",
    "\n",
    "If yes, further check if it's even or odd.\n",
    "\n",
    "Print \"The number is positive and even\" if divisible by 2.\n",
    "\n",
    "Print \"The number is positive and odd\" if not divisible by 2.\n",
    "\n",
    "If the number is zero or negative, print \"The number is not positive\".\n",
    "\n"
   ]
  },
  {
   "cell_type": "code",
   "execution_count": 21,
   "id": "517be568-c96d-4687-b5b7-0c77fcffb474",
   "metadata": {},
   "outputs": [
    {
     "name": "stdin",
     "output_type": "stream",
     "text": [
      "Enter a number 5\n"
     ]
    },
    {
     "name": "stdout",
     "output_type": "stream",
     "text": [
      "The number is positive and odd\n"
     ]
    }
   ],
   "source": [
    "number=int(input(\"Enter a number\"))\n",
    "if number>0:\n",
    "    if number % 2 == 0:\n",
    "        print(\"The number is positive and even\")\n",
    "    else:\n",
    "        print(\"The number is positive and odd\")\n",
    "else:\n",
    "    print(\"The number is not positive\")"
   ]
  },
  {
   "cell_type": "markdown",
   "id": "800fe26a-5d6e-4107-97ba-62fa4f913093",
   "metadata": {},
   "source": [
    "Q5. Ask the user for a username and password. Check if the username is correct. If it is, then check if the password is correct. If both are correct, print \"Access granted\".\n",
    "\n",
    "username = \"admin\"\n",
    "\n",
    "password = \"1234\""
   ]
  },
  {
   "cell_type": "code",
   "execution_count": 27,
   "id": "1d5b6cf7-bfb6-437c-ab1a-8f425d9d4f4e",
   "metadata": {},
   "outputs": [
    {
     "name": "stdin",
     "output_type": "stream",
     "text": [
      "Enter correct username admin\n",
      "Enter correct password 12345\n"
     ]
    },
    {
     "name": "stdout",
     "output_type": "stream",
     "text": [
      "Wrong Password \n",
      " Enter correct Password\n"
     ]
    }
   ],
   "source": [
    "username = \"admin\"\n",
    "password = \"1234\"\n",
    "enter_username = str(input(\"Enter correct username\"))\n",
    "enter_password = str(input(\"Enter correct password\"))\n",
    "if enter_username == username:\n",
    "    if enter_password == password:\n",
    "        print(\"Access Granted\")\n",
    "    else:\n",
    "        print(\"Wrong Password \\n Enter correct Password\")\n",
    "else:\n",
    "        print(\"Wrong username \\n Enter correct username\")"
   ]
  },
  {
   "cell_type": "markdown",
   "id": "d7512946-1c55-48d5-b62d-4f17c84f457a",
   "metadata": {},
   "source": [
    "Q6. Take an integer input from the user and check whether the entered value exists in the tuple my_tuple = (5, 10, 15, 20, 25). Print an appropriate message based on the result."
   ]
  },
  {
   "cell_type": "code",
   "execution_count": 31,
   "id": "291b422c-665d-4d77-b60f-1f4fedc607e7",
   "metadata": {},
   "outputs": [
    {
     "name": "stdin",
     "output_type": "stream",
     "text": [
      "Enter a integer number 5\n"
     ]
    },
    {
     "name": "stdout",
     "output_type": "stream",
     "text": [
      "5 is present in my_tuple\n"
     ]
    }
   ],
   "source": [
    "my_tuple = (5, 10, 15, 20, 25)\n",
    "user_input=int(input(\"Enter a integer number\"))\n",
    "if user_input in my_tuple:\n",
    "    print(user_input, \"is present in my_tuple\")\n",
    "else:\n",
    "    print(user_input, \"is not present in my_tuple\" )"
   ]
  },
  {
   "cell_type": "markdown",
   "id": "f38b44b4-1244-4fa9-a186-8153caa421ec",
   "metadata": {},
   "source": [
    "Q7. Create a program that takes the user's first name, last name, and age as input, packs them into a tuple, and prints the tuple."
   ]
  },
  {
   "cell_type": "code",
   "execution_count": 33,
   "id": "63bfb926-9cc8-4814-912a-adf36e281c2c",
   "metadata": {},
   "outputs": [
    {
     "name": "stdin",
     "output_type": "stream",
     "text": [
      "Enter First name Sarim\n",
      "Enter last name ali Khan\n",
      "Enter ypur age 24\n"
     ]
    },
    {
     "name": "stdout",
     "output_type": "stream",
     "text": [
      "('Sarim', 'ali Khan', 24.0)\n"
     ]
    }
   ],
   "source": [
    "first_name=str(input(\"Enter First name\"))\n",
    "last_name=str(input(\"Enter last name\"))\n",
    "age=float(input(\"Enter ypur age\"))\n",
    "bio_tuple = (first_name,last_name, age)\n",
    "print(bio_tuple)"
   ]
  },
  {
   "cell_type": "markdown",
   "id": "6a08567b-6f6c-4374-a54e-992c09a31780",
   "metadata": {},
   "source": [
    "Q8. Given the tuple coordinates = (4, 5, 6), unpack the elements of the tuple into three variables x, y, and z. Then, calculate and print the sum of the variables."
   ]
  },
  {
   "cell_type": "code",
   "execution_count": 39,
   "id": "37d8a893-e2e6-4a28-8b77-d4bd933a8b5f",
   "metadata": {},
   "outputs": [
    {
     "name": "stdout",
     "output_type": "stream",
     "text": [
      "sum of all three variables is :  15\n"
     ]
    }
   ],
   "source": [
    "coordinates = (4, 5, 6)\n",
    "x,y,z = coordinates\n",
    "addition = (x+y+z)\n",
    "print(\"sum of all three variables is : \", addition)"
   ]
  },
  {
   "cell_type": "markdown",
   "id": "d3973711-1c49-436f-aaff-e0a19877f525",
   "metadata": {},
   "source": [
    "Q9. Given the tuple my_tuple = (1, 2, 3, 4, 5), remove the element 3 from the tuple by first converting it to a list, and then print the resulting tuple."
   ]
  },
  {
   "cell_type": "code",
   "execution_count": 43,
   "id": "edcae14d-112d-48b1-b4ac-49408939829e",
   "metadata": {},
   "outputs": [
    {
     "name": "stdout",
     "output_type": "stream",
     "text": [
      "Element 3 is removed from tuple:  (1, 2, 4, 5)\n"
     ]
    }
   ],
   "source": [
    "my_tuple = (1, 2, 3, 4, 5)\n",
    "temp_list=list(my_tuple)\n",
    "temp_list.remove(3)\n",
    "updated_tuple= tuple(temp_list)\n",
    "print(\"Element 3 is removed from tuple: \", updated_tuple)"
   ]
  },
  {
   "cell_type": "markdown",
   "id": "c9c6a478-5d3d-4e1e-8bce-b9479925c7c5",
   "metadata": {},
   "source": [
    "Q10. Given the tuple numbers = (10, 20, 5, 30, 15), find and print the maximum and minimum values in the tuple."
   ]
  },
  {
   "cell_type": "code",
   "execution_count": 45,
   "id": "23f2258c-e489-4d2a-8b1c-20b9e76ac764",
   "metadata": {},
   "outputs": [
    {
     "name": "stdout",
     "output_type": "stream",
     "text": [
      "Maximum value in given tuple is :  30\n",
      "Minimum value in given tuple is :  5\n"
     ]
    }
   ],
   "source": [
    "numbers = (10, 20, 5, 30, 15)\n",
    "#Maximum Value in Tuple\n",
    "print(\"Maximum value in given tuple is : \", max(numbers))\n",
    "#Minimum value in Tuple\n",
    "print(\"Minimum value in given tuple is : \", min(numbers))"
   ]
  },
  {
   "cell_type": "code",
   "execution_count": null,
   "id": "02284150-ac56-4abf-ae88-6d42e034bbd6",
   "metadata": {},
   "outputs": [],
   "source": []
  }
 ],
 "metadata": {
  "kernelspec": {
   "display_name": "Python [conda env:base] *",
   "language": "python",
   "name": "conda-base-py"
  },
  "language_info": {
   "codemirror_mode": {
    "name": "ipython",
    "version": 3
   },
   "file_extension": ".py",
   "mimetype": "text/x-python",
   "name": "python",
   "nbconvert_exporter": "python",
   "pygments_lexer": "ipython3",
   "version": "3.12.7"
  }
 },
 "nbformat": 4,
 "nbformat_minor": 5
}
